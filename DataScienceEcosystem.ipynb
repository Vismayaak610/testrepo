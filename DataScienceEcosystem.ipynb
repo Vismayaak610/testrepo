{
 "cells": [
  {
   "cell_type": "markdown",
   "id": "11d7e216",
   "metadata": {},
   "source": [
    "# Data Science Tools and Ecosystem"
   ]
  },
  {
   "cell_type": "markdown",
   "id": "82f285b0",
   "metadata": {},
   "source": [
    "In this notebook, Data Science Tools and Ecosystem are summarized."
   ]
  },
  {
   "cell_type": "markdown",
   "id": "f205c98a",
   "metadata": {},
   "source": [
    "*Objectives* :\n",
    "- Programming languages in data science\n",
    "- Libraries used in data science\n",
    "- Data science tools\n",
    "- Examples of evaluating arithmetic expressions in Python\n"
   ]
  },
  {
   "cell_type": "markdown",
   "id": "6caeea3c",
   "metadata": {},
   "source": [
    "Some of the best programming languages for Data Science are:"
   ]
  },
  {
   "cell_type": "markdown",
   "id": "42f2e387",
   "metadata": {},
   "source": [
    "1. Python\n",
    "2. R\n",
    "3. SQL\n",
    "4. Java"
   ]
  },
  {
   "cell_type": "markdown",
   "id": "6b871c4a",
   "metadata": {},
   "source": [
    "Some of the commonly used libraries used by Data Scientists include:"
   ]
  },
  {
   "cell_type": "markdown",
   "id": "23a4ddfe",
   "metadata": {},
   "source": [
    "1. Numpy\n",
    "2. Keras\n",
    "3. sciPy\n",
    "4. TensorFlow\n",
    "5. SiKit-Learn"
   ]
  },
  {
   "cell_type": "markdown",
   "id": "51071b06",
   "metadata": {},
   "source": [
    "|Data Science Tools|\n",
    "|--------------|\n",
    "|Rstudio|\n",
    "|TensorFlow|\n",
    "|Apache Spark|\n"
   ]
  },
  {
   "cell_type": "markdown",
   "id": "f3da3d49",
   "metadata": {},
   "source": [
    "### Below are a few examples of evaluating arithmetic expressions in Python"
   ]
  },
  {
   "cell_type": "markdown",
   "id": "376146ea",
   "metadata": {},
   "source": [
    " Example 1:  "
   ]
  },
  {
   "cell_type": "markdown",
   "id": "c75e3cac",
   "metadata": {},
   "source": [
    "a=2\n",
    "b=3\n",
    "print(a+b)\n",
    "5"
   ]
  },
  {
   "cell_type": "markdown",
   "id": "63eff174",
   "metadata": {},
   "source": [
    "Example 2:"
   ]
  },
  {
   "cell_type": "markdown",
   "id": "cc06ee35",
   "metadata": {},
   "source": [
    "a=4\n",
    "b=2\n",
    "print(a/b)\n",
    "2.0"
   ]
  },
  {
   "cell_type": "markdown",
   "id": "23446020",
   "metadata": {},
   "source": [
    "This a simple arithmetic expression to mutiply then add integers."
   ]
  },
  {
   "cell_type": "code",
   "execution_count": 12,
   "id": "8590af73",
   "metadata": {},
   "outputs": [
    {
     "data": {
      "text/plain": [
       "17"
      ]
     },
     "execution_count": 12,
     "metadata": {},
     "output_type": "execute_result"
    }
   ],
   "source": [
    "(3*4)+5"
   ]
  },
  {
   "cell_type": "markdown",
   "id": "d9870288",
   "metadata": {},
   "source": [
    "This will convert 200 minutes to hours by diving by 60"
   ]
  },
  {
   "cell_type": "code",
   "execution_count": 14,
   "id": "ed1c19b9",
   "metadata": {},
   "outputs": [
    {
     "data": {
      "text/plain": [
       "3.3333333333333335"
      ]
     },
     "execution_count": 14,
     "metadata": {},
     "output_type": "execute_result"
    }
   ],
   "source": [
    "200 /60"
   ]
  },
  {
   "cell_type": "markdown",
   "id": "0ba14f57",
   "metadata": {},
   "source": [
    "## Author"
   ]
  },
  {
   "cell_type": "markdown",
   "id": "61d1cc45",
   "metadata": {},
   "source": [
    "VISMAYA A K"
   ]
  }
 ],
 "metadata": {
  "kernelspec": {
   "display_name": "Python 3 (ipykernel)",
   "language": "python",
   "name": "python3"
  },
  "language_info": {
   "codemirror_mode": {
    "name": "ipython",
    "version": 3
   },
   "file_extension": ".py",
   "mimetype": "text/x-python",
   "name": "python",
   "nbconvert_exporter": "python",
   "pygments_lexer": "ipython3",
   "version": "3.10.9"
  }
 },
 "nbformat": 4,
 "nbformat_minor": 5
}
